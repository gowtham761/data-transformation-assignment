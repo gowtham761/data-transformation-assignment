{
 "cells": [
  {
   "cell_type": "code",
   "execution_count": 10,
   "id": "2ede6b71-441e-4c72-87fa-9e1f67259e61",
   "metadata": {},
   "outputs": [],
   "source": [
    "import re\n",
    "import csv\n",
    "import pandas as pd\n",
    "from dateutil import parser"
   ]
  },
  {
   "cell_type": "code",
   "execution_count": 11,
   "id": "a6d2b41f-24e1-465e-bc1b-d1dee4dc1faa",
   "metadata": {},
   "outputs": [],
   "source": [
    "def strip_all_quotes(val: str) -> str:\n",
    "    s = str(val)\n",
    "    s = s.replace('&quot;', '\"')\n",
    "    s = re.sub(r'\"', '', s)\n",
    "    return s.strip()"
   ]
  },
  {
   "cell_type": "code",
   "execution_count": 12,
   "id": "887d2f8f-084c-4acb-a987-e210049339af",
   "metadata": {},
   "outputs": [],
   "source": [
    "def to_int(val):\n",
    "    s = strip_all_quotes(val)\n",
    "    if not s or not re.fullmatch(r'-?\\d+', s):\n",
    "        return 0\n",
    "    return int(s)"
   ]
  },
  {
   "cell_type": "code",
   "execution_count": 13,
   "id": "56ed80ca-c446-4ce5-bbad-41846ceee577",
   "metadata": {},
   "outputs": [],
   "source": [
    "def to_float(val):\n",
    "    s = strip_all_quotes(val)\n",
    "    try:\n",
    "        return float(s) if s else 0.0\n",
    "    except ValueError:\n",
    "        return 0.0"
   ]
  },
  {
   "cell_type": "code",
   "execution_count": 14,
   "id": "dd49c9cf-6a93-4ac7-b4e7-a1a0647c8dfb",
   "metadata": {},
   "outputs": [],
   "source": [
    "def to_datetime(val):\n",
    "    s = strip_all_quotes(val)\n",
    "    if not s:\n",
    "        return \"\"\n",
    "    try:\n",
    "        return parser.parse(s, dayfirst=False).date().isoformat()\n",
    "    except (ValueError, OverflowError):\n",
    "        return \"\""
   ]
  },
  {
   "cell_type": "code",
   "execution_count": 15,
   "id": "aa91ed10-4d05-4585-a3c7-c4570604e9d6",
   "metadata": {},
   "outputs": [],
   "source": [
    "def compute_total_price(row):\n",
    "    return row['quantity'] * row['price_per_unit']"
   ]
  },
  {
   "cell_type": "code",
   "execution_count": 16,
   "id": "6ec6a5a6-91db-4cd3-b2f1-cbef7d99c796",
   "metadata": {},
   "outputs": [],
   "source": [
    "def clean_dataframe(df: pd.DataFrame) -> pd.DataFrame:\n",
    "    df = df.copy()\n",
    "    df['order_id']       = df['order_id'].apply(to_int)\n",
    "    df['product_id']     = df['product_id'].apply(to_int)\n",
    "    df['quantity']       = df['quantity'].apply(to_int)\n",
    "    df['price_per_unit'] = df['price_per_unit'].apply(to_float)\n",
    "    df['order_date']     = df['order_date'].apply(to_datetime)\n",
    "    df['total_price']    = df.apply(compute_total_price, axis=1)\n",
    "    return df"
   ]
  },
  {
   "cell_type": "code",
   "execution_count": 17,
   "id": "786e826a-a8a4-4b77-b7af-7d8046d9ac3e",
   "metadata": {},
   "outputs": [],
   "source": [
    "def main():\n",
    "    df_raw = pd.read_csv(\n",
    "        'raw_sales.csv',\n",
    "        dtype=str,\n",
    "        engine='python',\n",
    "        quoting=csv.QUOTE_NONE\n",
    "    )\n",
    "    df_raw.columns = df_raw.columns.str.replace(r'\"', '', regex=True)\n",
    "    df_clean = clean_dataframe(df_raw)\n",
    "    df_clean.to_csv('cleaned_sales.csv', index=False)\n",
    "    print(df_clean)"
   ]
  },
  {
   "cell_type": "code",
   "execution_count": 18,
   "id": "8eebf679-b3cc-4d01-834b-63636a40a25f",
   "metadata": {},
   "outputs": [
    {
     "name": "stdout",
     "output_type": "stream",
     "text": [
      "   order_id  product_id  quantity  price_per_unit  order_date  total_price\n",
      "0         1         101         2           20.00  2025-06-01        40.00\n",
      "1         2         102        -1           15.50  2025-06-01       -15.50\n",
      "2         3         103         1           35.00  2025-06-01        35.00\n",
      "3         4         104         3           20.00  2025-06-02        60.00\n",
      "4         5         105         0           99.00  2025-06-03         0.00\n",
      "5         6         106         2           25.99  2025-06-03        51.98\n"
     ]
    }
   ],
   "source": [
    "if __name__ == '__main__':\n",
    "    main()"
   ]
  }
 ],
 "metadata": {
  "kernelspec": {
   "display_name": "Python 3 (ipykernel)",
   "language": "python",
   "name": "python3"
  },
  "language_info": {
   "codemirror_mode": {
    "name": "ipython",
    "version": 3
   },
   "file_extension": ".py",
   "mimetype": "text/x-python",
   "name": "python",
   "nbconvert_exporter": "python",
   "pygments_lexer": "ipython3",
   "version": "3.13.5"
  }
 },
 "nbformat": 4,
 "nbformat_minor": 5
}
