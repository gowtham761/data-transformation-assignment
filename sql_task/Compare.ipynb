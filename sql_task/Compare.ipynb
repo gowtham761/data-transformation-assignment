{
 "cells": [
  {
   "cell_type": "code",
   "execution_count": 1,
   "id": "4115b0ca-9837-453f-9464-b61a98edd657",
   "metadata": {},
   "outputs": [],
   "source": [
    "import pandas as pd\n",
    "from sqlalchemy import *"
   ]
  },
  {
   "cell_type": "code",
   "execution_count": 2,
   "id": "c5800457-94a5-46a4-85ab-bca54e008d7d",
   "metadata": {},
   "outputs": [],
   "source": [
    "def load_csv_to_db(engine, csv_path, table_name):\n",
    "    df = pd.read_csv(csv_path)\n",
    "    df.to_sql(table_name, engine, index=False, if_exists=\"replace\")"
   ]
  },
  {
   "cell_type": "code",
   "execution_count": 3,
   "id": "a0c6891f-34a5-49ce-af28-639010d27077",
   "metadata": {},
   "outputs": [],
   "source": [
    "def compare_tables(engine, left_name, right_name, key_col):\n",
    "    meta = MetaData()\n",
    "    meta.reflect(bind=engine, only=[left_name, right_name])\n",
    "    left  = Table(left_name,  meta, autoload_with=engine)\n",
    "    right = Table(right_name, meta, autoload_with=engine)\n",
    "    all_cols     = list(left.columns.keys())\n",
    "    non_key_cols = [c for c in all_cols if c != key_col]\n",
    "    removed_cols = [left.c[c] for c in all_cols] + [\n",
    "        literal(\"REMOVED\").label(\"change_type\")\n",
    "    ]\n",
    "    removed_stmt = (\n",
    "        select(*removed_cols)\n",
    "        .select_from(outerjoin(left, right, left.c[key_col] == right.c[key_col]))\n",
    "        .where(right.c[key_col] == None)\n",
    "    )\n",
    "    added_cols = [right.c[c] for c in all_cols] + [\n",
    "        literal(\"ADDED\").label(\"change_type\")\n",
    "    ]\n",
    "    added_stmt = (\n",
    "        select(*added_cols)\n",
    "        .select_from(outerjoin(right, left, left.c[key_col] == right.c[key_col]))\n",
    "        .where(left.c[key_col] == None)\n",
    "    )\n",
    "    full_rows_df = pd.read_sql(\n",
    "        removed_stmt.union_all(added_stmt),\n",
    "        con=engine\n",
    "    )\n",
    "    col_dfs = []\n",
    "    for col in non_key_cols:\n",
    "        stmt = (\n",
    "    select(left.c[key_col].label(key_col),literal(col).label(\"column_changed\"),left.c[col].label(\"old_value\"),right.c[col].label(\"new_value\"),)\n",
    "            .select_from(left.join(right, left.c[key_col] == right.c[key_col]))\n",
    "            .where(or_(left.c[col] != right.c[col],and_( left.c[col].is_(None),right.c[col].isnot(None)),and_( left.c[col].isnot(None),right.c[col].is_(None)),\n",
    "                )\n",
    "            )\n",
    "        )\n",
    "        df_col = pd.read_sql(stmt, con=engine)\n",
    "        if not df_col.empty:\n",
    "            col_dfs.append(df_col)\n",
    "            \n",
    "    if col_dfs:\n",
    "        col_changes_df = pd.concat(col_dfs, ignore_index=True)\n",
    "    else:\n",
    "        col_changes_df = pd.DataFrame(\n",
    "            columns=[key_col, \"column_changed\", \"old_value\", \"new_value\"]\n",
    "        )\n",
    "\n",
    "    return full_rows_df, col_changes_df\n",
    "            "
   ]
  },
  {
   "cell_type": "code",
   "execution_count": 4,
   "id": "6e74dc5f-85b9-45f2-a261-a81fa000adf0",
   "metadata": {},
   "outputs": [],
   "source": [
    "def compare_snapshots(\n",
    "    left_csv,\n",
    "    right_csv,\n",
    "    key_col=\"product_id\",\n",
    "    engine_url=\"sqlite:///:memory:\",\n",
    "    left_name=\"day1\",\n",
    "    right_name=\"day2\"\n",
    "):\n",
    "    engine = create_engine(engine_url)\n",
    "    load_csv_to_db(engine, left_csv,  left_name)\n",
    "    load_csv_to_db(engine, right_csv, right_name)\n",
    "    return compare_tables(engine, left_name, right_name, key_col)"
   ]
  },
  {
   "cell_type": "code",
   "execution_count": 5,
   "id": "bd4a5972-896e-48bb-a614-9187dbdc477b",
   "metadata": {},
   "outputs": [],
   "source": [
    "full_diffs, col_diffs = compare_snapshots(\n",
    "    left_csv   = \"products_day1.csv\",\n",
    "    right_csv  =  \"products_day2.csv\",\n",
    "    key_col    = \"product_id\",\n",
    "    engine_url = \"sqlite:///:memory:\",\n",
    "    left_name  = \"day1\",\n",
    "    right_name = \"day2\"\n",
    ")"
   ]
  },
  {
   "cell_type": "code",
   "execution_count": 6,
   "id": "5b697f72-5c1b-41f8-8960-2a5ad3497a3c",
   "metadata": {},
   "outputs": [
    {
     "name": "stdout",
     "output_type": "stream",
     "text": [
      "Changes in Full Rows (Added or Removed):\n"
     ]
    },
    {
     "data": {
      "text/html": [
       "<div>\n",
       "<style scoped>\n",
       "    .dataframe tbody tr th:only-of-type {\n",
       "        vertical-align: middle;\n",
       "    }\n",
       "\n",
       "    .dataframe tbody tr th {\n",
       "        vertical-align: top;\n",
       "    }\n",
       "\n",
       "    .dataframe thead th {\n",
       "        text-align: right;\n",
       "    }\n",
       "</style>\n",
       "<table border=\"1\" class=\"dataframe\">\n",
       "  <thead>\n",
       "    <tr style=\"text-align: right;\">\n",
       "      <th></th>\n",
       "      <th>product_id</th>\n",
       "      <th>name</th>\n",
       "      <th>category</th>\n",
       "      <th>price</th>\n",
       "      <th>stock</th>\n",
       "      <th>change_type</th>\n",
       "    </tr>\n",
       "  </thead>\n",
       "  <tbody>\n",
       "    <tr>\n",
       "      <th>0</th>\n",
       "      <td>106</td>\n",
       "      <td>Notebook</td>\n",
       "      <td>Stationery</td>\n",
       "      <td>2.99</td>\n",
       "      <td>300</td>\n",
       "      <td>REMOVED</td>\n",
       "    </tr>\n",
       "    <tr>\n",
       "      <th>1</th>\n",
       "      <td>107</td>\n",
       "      <td>Smart Watch</td>\n",
       "      <td>Wearables</td>\n",
       "      <td>99.00</td>\n",
       "      <td>50</td>\n",
       "      <td>ADDED</td>\n",
       "    </tr>\n",
       "  </tbody>\n",
       "</table>\n",
       "</div>"
      ],
      "text/plain": [
       "   product_id         name    category  price  stock change_type\n",
       "0         106     Notebook  Stationery   2.99    300     REMOVED\n",
       "1         107  Smart Watch   Wearables  99.00     50       ADDED"
      ]
     },
     "metadata": {},
     "output_type": "display_data"
    },
    {
     "name": "stdout",
     "output_type": "stream",
     "text": [
      "Column-Level Differences for Matching product_ids:\n"
     ]
    },
    {
     "data": {
      "text/html": [
       "<div>\n",
       "<style scoped>\n",
       "    .dataframe tbody tr th:only-of-type {\n",
       "        vertical-align: middle;\n",
       "    }\n",
       "\n",
       "    .dataframe tbody tr th {\n",
       "        vertical-align: top;\n",
       "    }\n",
       "\n",
       "    .dataframe thead th {\n",
       "        text-align: right;\n",
       "    }\n",
       "</style>\n",
       "<table border=\"1\" class=\"dataframe\">\n",
       "  <thead>\n",
       "    <tr style=\"text-align: right;\">\n",
       "      <th></th>\n",
       "      <th>product_id</th>\n",
       "      <th>column_changed</th>\n",
       "      <th>old_value</th>\n",
       "      <th>new_value</th>\n",
       "    </tr>\n",
       "  </thead>\n",
       "  <tbody>\n",
       "    <tr>\n",
       "      <th>0</th>\n",
       "      <td>101</td>\n",
       "      <td>price</td>\n",
       "      <td>25.99</td>\n",
       "      <td>23.99</td>\n",
       "    </tr>\n",
       "    <tr>\n",
       "      <th>2</th>\n",
       "      <td>102</td>\n",
       "      <td>stock</td>\n",
       "      <td>200.00</td>\n",
       "      <td>180.00</td>\n",
       "    </tr>\n",
       "    <tr>\n",
       "      <th>1</th>\n",
       "      <td>105</td>\n",
       "      <td>price</td>\n",
       "      <td>35.00</td>\n",
       "      <td>37.00</td>\n",
       "    </tr>\n",
       "  </tbody>\n",
       "</table>\n",
       "</div>"
      ],
      "text/plain": [
       "   product_id column_changed  old_value  new_value\n",
       "0         101          price      25.99      23.99\n",
       "2         102          stock     200.00     180.00\n",
       "1         105          price      35.00      37.00"
      ]
     },
     "metadata": {},
     "output_type": "display_data"
    }
   ],
   "source": [
    "full_diffs = full_diffs.sort_values(by=\"product_id\")\n",
    "full_diffs.to_csv('Changes in Full Rows.csv', index=False)\n",
    "print(\"Changes in Full Rows (Added or Removed):\")\n",
    "display(full_diffs)\n",
    "col_diffs = col_diffs.sort_values(by=\"product_id\")\n",
    "col_diffs.to_csv('Changes in Column Values.csv', index=False)\n",
    "print(\"Column-Level Differences for Matching product_ids:\")\n",
    "display(col_diffs)"
   ]
  }
 ],
 "metadata": {
  "kernelspec": {
   "display_name": "Python 3 (ipykernel)",
   "language": "python",
   "name": "python3"
  },
  "language_info": {
   "codemirror_mode": {
    "name": "ipython",
    "version": 3
   },
   "file_extension": ".py",
   "mimetype": "text/x-python",
   "name": "python",
   "nbconvert_exporter": "python",
   "pygments_lexer": "ipython3",
   "version": "3.13.5"
  }
 },
 "nbformat": 4,
 "nbformat_minor": 5
}
